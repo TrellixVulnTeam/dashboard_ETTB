{
 "metadata": {
  "language_info": {
   "codemirror_mode": {
    "name": "ipython",
    "version": 3
   },
   "file_extension": ".py",
   "mimetype": "text/x-python",
   "name": "python",
   "nbconvert_exporter": "python",
   "pygments_lexer": "ipython3",
   "version": "3.7.8-final"
  },
  "orig_nbformat": 2,
  "kernelspec": {
   "name": "python3",
   "display_name": "Python 3.7.8 64-bit",
   "metadata": {
    "interpreter": {
     "hash": "aee8b7b246df8f9039afb4144a1f6fd8d2ca17a180786b69acc140d282b71a49"
    }
   }
  }
 },
 "nbformat": 4,
 "nbformat_minor": 2,
 "cells": [
  {
   "cell_type": "code",
   "execution_count": 7,
   "metadata": {},
   "outputs": [
    {
     "output_type": "stream",
     "name": "stdout",
     "text": [
      "manager\n"
     ]
    }
   ],
   "source": [
    "import pandas as pd \n",
    "\n",
    "x = pd.read_csv('khanh.csv')\n",
    "\n",
    "username = x['username']\n",
    "\n",
    "password = x['password']\n",
    "\n",
    "role = x['role']\n",
    "\n",
    "data = {'username' : 'khanh99' , 'password' : 99}\n",
    "\n",
    "for i in range(len(username)):\n",
    "\n",
    "    if data['username'] == username[i] and data['password'] == password[i]:\n",
    "\n",
    "        print(role[i])"
   ]
  },
  {
   "cell_type": "code",
   "execution_count": null,
   "metadata": {},
   "outputs": [],
   "source": []
  }
 ]
}